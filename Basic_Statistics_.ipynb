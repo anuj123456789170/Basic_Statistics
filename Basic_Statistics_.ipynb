{
  "nbformat": 4,
  "nbformat_minor": 0,
  "metadata": {
    "colab": {
      "provenance": []
    },
    "kernelspec": {
      "name": "python3",
      "display_name": "Python 3"
    },
    "language_info": {
      "name": "python"
    }
  },
  "cells": [
    {
      "cell_type": "code",
      "execution_count": null,
      "metadata": {
        "id": "LXsWx6cHmumR"
      },
      "outputs": [],
      "source": []
    },
    {
      "cell_type": "markdown",
      "source": [
        "1. **What is statistics, and why is it important?**\n",
        "- Statistics is the science of collecting, analyzing, interpreting, and presenting data.\n",
        "It helps in making informed decisions based on data.\n",
        "It is vital in research, business, healthcare, and government.\n",
        "It transforms raw data into meaningful insights.\n",
        "\n",
        "2. **What are the two main types of statistics?**\n",
        "- Descriptive Statistics\n",
        "\n",
        "- Inferential Statistics\n",
        "These help summarize data and make predictions or generalizations from samples.\n",
        "\n",
        "3. **What are descriptive statistics?**\n",
        "- Descriptive statistics summarize and describe features of a dataset.\n",
        "Examples include mean, median, mode, range, and standard deviation.\n",
        "It deals only with the data you have.\n",
        "No predictions or generalizations are made.\n",
        "\n",
        "4. **What is inferential statistics?**\n",
        "- Inferential statistics draws conclusions about a population based on a sample.\n",
        "It uses probability to estimate and test hypotheses.\n",
        "Common tools: confidence intervals, regression, hypothesis testing.\n",
        "It helps generalize findings beyond the observed data.\n",
        "\n",
        "5. **What is sampling in statistics?**\n",
        "- Sampling is selecting a subset of individuals from a population for analysis.\n",
        "It saves time and cost while still allowing insights.\n",
        "It’s essential for conducting surveys or experiments.\n",
        "Proper sampling ensures data representativeness.\n",
        "\n",
        "6. **What are the different types of sampling methods?**\n",
        "- Random Sampling\n",
        "\n",
        "- Stratified Sampling\n",
        "\n",
        "- Systematic Sampling\n",
        "\n",
        "- Cluster Sampling\n",
        "\n",
        "Convenience Sampling\n",
        "Each has pros and cons depending on the study.\n",
        "\n",
        "7. **What is the difference between random and non-random sampling?**\n",
        "- Random Sampling: Every member has an equal chance of selection.\n",
        "\n",
        "- Non-Random Sampling: Selection is based on convenience or judgment.\n",
        "Random is more unbiased; non-random can lead to sampling bias.\n",
        "Example: Lottery vs. asking friends.\n",
        "\n",
        "8. **Define and give examples of qualitative and quantitative data.**\n",
        "- Qualitative (Categorical): Describes qualities (e.g., gender, color).\n",
        "\n",
        "- Quantitative (Numerical): Describes quantities (e.g., height, age).\n",
        "Qualitative is non-numeric; quantitative is numeric.\n",
        "Example: \"Red\" (qual) vs. \"5 feet\" (quant).\n",
        "\n",
        "9. **What are the different types of data in statistics?**\n",
        "- Qualitative (Nominal, Ordinal)\n",
        "\n",
        "- Quantitative (Discrete, Continuous)\n",
        "Each type influences the statistical methods used.\n",
        "Data type guides analysis techniques.\n",
        "\n",
        "10.**Explain nominal, ordinal, interval, and ratio levels of measurement.**\n",
        "- Nominal: Categories only (e.g., hair color)\n",
        "\n",
        "- Ordinal: Ordered categories (e.g., rankings)\n",
        "\n",
        "- Interval: Numeric, no true zero (e.g., temperature in °C)\n",
        "\n",
        "- Ratio: Numeric, true zero (e.g., weight, height)\n",
        "\n",
        "11. **What is the measure of central tendency?**\n",
        " -It identifies the center or average of a dataset.\n",
        "The main types are mean, median, and mode.\n",
        "Helps summarize a large dataset with a single value.\n",
        "It gives a quick sense of data distribution.\n",
        "\n",
        "12.**Define mean, median, and mode.?**\n",
        "- Mean: Average value (sum ÷ count)\n",
        "\n",
        "- Median: Middle value when sorted\n",
        "\n",
        "- Mode: Most frequent value\n",
        "Each tells a different story about data center.\n",
        "13. **What is the significance of the measure of central tendency?**\n",
        "- It provides a summary of the dataset’s central value.\n",
        "Helps compare different datasets quickly.\n",
        "Aids in understanding data distribution.\n",
        "Useful in decision-making and trend analysis.\n",
        "14. *What is variance, and how is it calculated?**\n",
        "- Variance measures the average squared deviation from the mean.\n",
        "Formula:\n",
        "𝜎\n",
        "2\n",
        "=\n",
        "∑\n",
        "(\n",
        "𝑥\n",
        "−\n",
        "𝜇\n",
        ")\n",
        "2\n",
        "𝑛\n",
        "σ\n",
        "2\n",
        " =\n",
        "n\n",
        "∑(x−μ)\n",
        "2\n",
        "\n",
        "​\n",
        "\n",
        "It shows how spread out the data is.\n",
        "Larger variance = more dispersion.\n",
        "\n",
        "15.** What is skewness in a dataset?**\n",
        "- Skewness shows the asymmetry of a data distribution.\n",
        "\n",
        "-Positive skew: Tail on the right\n",
        "\n",
        "-Negative skew: Tail on the left\n",
        "Zero skew = symmetric distribution.\n",
        "\n",
        "16. **What is standard deviation, and why is it important?**\n",
        "- It’s the square root of variance.\n",
        "Measures how much values deviate from the mean.\n",
        "Helps understand data consistency.\n",
        "Low SD = values close to mean.\n",
        "\n",
        "17. **Define and explain the term range in statistics?**\n",
        "- Range = Maximum value – Minimum value\n",
        "It’s a simple measure of data spread.\n",
        "Doesn’t account for data distribution.\n",
        "Useful for quick insights into variability.\n",
        "\n",
        "18. **What is the difference between variance and standard deviation?**\n",
        "- Variance is the average of squared differences from the mean.\n",
        "Standard deviation is its square root.\n",
        "SD is in the same units as data, variance is not.\n",
        "Both measure spread, but SD is more interpretable.\n",
        "\n",
        "19. **What does it mean if a dataset is positively or negatively skewed?**\n",
        "- Positive skew: Long tail to the right; mean > median\n",
        "\n",
        "- Negative skew: Long tail to the left; mean < median\n",
        "It indicates data asymmetry.\n",
        "Skew affects the choice of statistical methods.\n",
        "\n",
        "20. **Define and explain kurtosis?**\n",
        "- Kurtosis measures the \"tailedness\" of the distribution.\n",
        "\n",
        "- High kurtosis: More outliers\n",
        "\n",
        "- Low kurtosis: Fewer outliers\n",
        "Helps understand peak and tail extremity.\n",
        "\n",
        "21. **What is the purpose of covariance?**\n",
        "- Covariance shows the direction of a linear relationship between variables.\n",
        "Positive: Variables increase together; Negative: one increases, the other decreases.\n",
        "It doesn’t indicate strength.\n",
        "Units are not standardized.\n",
        "\n",
        "22. **What does correlation measure in statistics?**\n",
        "- Correlation measures strength and direction of a linear relationship.\n",
        "Ranges from -1 to +1.\n",
        "+1 = perfect positive; -1 = perfect negative; 0 = no correlation.\n",
        "Unlike covariance, it's standardized.\n",
        "\n",
        "23. **What is the difference between covariance and correlation?**\n",
        "- Covariance shows direction, correlation shows both direction and strength.\n",
        "Correlation is scaled (−1 to +1); covariance is not.\n",
        "Correlation is easier to interpret.\n",
        "Both assess variable relationships.\n",
        "\n",
        "24. **What are some real-world applications of statistics?**\n",
        "- Healthcare (e.g., drug effectiveness)\n",
        "\n",
        "- Business (e.g., sales forecasting)\n",
        "\n",
        "- Government (e.g., census, policy decisions)\n",
        "\n",
        "- Sports, education, and social sciences for performance analysis\n",
        "\n",
        "\n",
        "\n",
        "\n"
      ],
      "metadata": {
        "id": "437BC6LnoTxY"
      }
    },
    {
      "cell_type": "markdown",
      "source": [],
      "metadata": {
        "id": "LhV-gI281DRX"
      }
    },
    {
      "cell_type": "code",
      "source": [
        "#1.How do you calculate the mean, median, and mode of a dataset?\n",
        "\n",
        "import numpy as np\n",
        "from scipy import stats as st"
      ],
      "metadata": {
        "id": "3pStbxC80rrc"
      },
      "execution_count": 1,
      "outputs": []
    },
    {
      "cell_type": "code",
      "source": [
        "data= [4, 5, 6, 7, 8, 9, 10]"
      ],
      "metadata": {
        "id": "fTwUyl670yVO"
      },
      "execution_count": 2,
      "outputs": []
    },
    {
      "cell_type": "code",
      "source": [
        "print(\"Mean:\", np.mean(data))\n",
        "print(\"Median:\", np.median(data))\n",
        "print(\"Mode:\", st.mode(data))"
      ],
      "metadata": {
        "colab": {
          "base_uri": "https://localhost:8080/"
        },
        "id": "K5ihNggZ08Ze",
        "outputId": "35712f39-5b9a-49a8-c4ef-c6265b462a9e"
      },
      "execution_count": 3,
      "outputs": [
        {
          "output_type": "stream",
          "name": "stdout",
          "text": [
            "Mean: 7.0\n",
            "Median: 7.0\n",
            "Mode: ModeResult(mode=np.int64(4), count=np.int64(1))\n"
          ]
        }
      ]
    },
    {
      "cell_type": "code",
      "source": [
        "#  Write a Python program to compute the variance and standard deviation of a dataset\n",
        "\n",
        "varience= np.var(data)\n",
        "\n",
        "Standred_deviation= np.std(data)\n",
        "\n",
        "print(\"Varience:\", varience)\n",
        "print(\"Standard Deviation:\", Standred_deviation)"
      ],
      "metadata": {
        "id": "MqOl2vsb1Blj",
        "colab": {
          "base_uri": "https://localhost:8080/"
        },
        "outputId": "ad3dd9e4-abce-45e9-c5a8-494ded51f696"
      },
      "execution_count": 4,
      "outputs": [
        {
          "output_type": "stream",
          "name": "stdout",
          "text": [
            "Varience: 4.0\n",
            "Standard Deviation: 2.0\n"
          ]
        }
      ]
    },
    {
      "cell_type": "code",
      "source": [
        "#  Create a dataset and classify it into nominal, ordinal, interval, and ratio types\n",
        "dataset = {\n",
        "    \"Name\": [\"Anuj\", \"Priya\", \"Ravi\"],             # Nominal\n",
        "    \"Education_Level\": [\"High\", \"Medium\", \"Low\"],  # Ordinal\n",
        "    \"Temperature\": [36.5, 37.0, 38.2],              # Interval\n",
        "    \"Salary\": [50000, 60000, 70000]                # Ratio\n",
        "}\n"
      ],
      "metadata": {
        "id": "QxYITdzPGHq0"
      },
      "execution_count": 5,
      "outputs": []
    },
    {
      "cell_type": "code",
      "source": [
        "#  Write a Python function to calculate the range of a dataset\n",
        "def calculate_range(data):\n",
        "    return max(data) - min(data)"
      ],
      "metadata": {
        "id": "zq3ldO_2GkcE"
      },
      "execution_count": 6,
      "outputs": []
    },
    {
      "cell_type": "code",
      "source": [
        "calculate_range(data)"
      ],
      "metadata": {
        "colab": {
          "base_uri": "https://localhost:8080/"
        },
        "id": "jf0b6D75HPTA",
        "outputId": "7f1d84a0-22eb-4ba0-fed4-b17320fb7968"
      },
      "execution_count": 7,
      "outputs": [
        {
          "output_type": "execute_result",
          "data": {
            "text/plain": [
              "6"
            ]
          },
          "metadata": {},
          "execution_count": 7
        }
      ]
    },
    {
      "cell_type": "code",
      "source": [
        "# Create a dataset and plot its histogram to visualize skewness\n",
        "import matplotlib.pyplot as plt\n",
        "import seaborn as sns\n",
        "\n",
        "sns.histplot(data, kde=True)\n",
        "plt.title(\"Histogram\")\n",
        "plt.show()\n"
      ],
      "metadata": {
        "colab": {
          "base_uri": "https://localhost:8080/",
          "height": 452
        },
        "id": "Da4LZ5C4HSb7",
        "outputId": "22c04764-3377-4b7a-ed5b-63f0d369083e"
      },
      "execution_count": 9,
      "outputs": [
        {
          "output_type": "display_data",
          "data": {
            "text/plain": [
              "<Figure size 640x480 with 1 Axes>"
            ],
            "image/png": "[encoded data removed]"
          },
          "metadata": {}
        }
      ]
    },
    {
      "cell_type": "code",
      "source": [
        "# Calculate skewness and kurtosis of a dataset using Python libraries\n",
        "print(\"Skewness:\", st.skew(data))\n",
        "print(\"Kurtosis:\", st.kurtosis(data))"
      ],
      "metadata": {
        "colab": {
          "base_uri": "https://localhost:8080/"
        },
        "id": "U86X6fx-Hyk5",
        "outputId": "ba423e9a-1700-42be-c97d-b4c8e2ff5df4"
      },
      "execution_count": 10,
      "outputs": [
        {
          "output_type": "stream",
          "name": "stdout",
          "text": [
            "Skewness: 0.0\n",
            "Kurtosis: -1.25\n"
          ]
        }
      ]
    },
    {
      "cell_type": "code",
      "source": [
        "# Generate a dataset and demonstrate positive and negative skewness\n",
        "positive_skew = [1, 2, 3, 4, 5, 6, 10, 20]\n",
        "negative_skew = [20, 18, 16, 15, 14, 13, 13, 12]\n",
        "\n",
        "sns.histplot(positive_skew, kde=True)\n",
        "plt.title(\"Positively Skewed\")\n",
        "plt.show()\n",
        "\n",
        "sns.histplot(negative_skew, kde=True)\n",
        "plt.title(\"Negatively Skewed\")\n",
        "plt.show()\n"
      ],
      "metadata": {
        "id": "QdLTMOXjIezR",
        "colab": {
          "base_uri": "https://localhost:8080/",
          "height": 887
        },
        "outputId": "b13aa653-82c6-45e8-96d7-cafa621b105b"
      },
      "execution_count": 11,
      "outputs": [
        {
          "output_type": "display_data",
          "data": {
            "text/plain": [
              "<Figure size 640x480 with 1 Axes>"
            ],
            "image/png": "[encoded data removed]"
          },
          "metadata": {}
        },
        {
          "output_type": "display_data",
          "data": {
            "text/plain": [
              "<Figure size 640x480 with 1 Axes>"
            ],
            "image/png": "[encoded data removed]"
          },
          "metadata": {}
        }
      ]
    },
    {
      "cell_type": "code",
      "source": [
        "#  Write a Python script to calculate covariance between two datasets\n",
        "x = [2, 4, 6, 8]\n",
        "y = [1, 3, 2, 5]\n",
        "\n",
        "cov = np.cov(x, y)[0,0]\n",
        "print(\"Covariance:\", cov)\n"
      ],
      "metadata": {
        "colab": {
          "base_uri": "https://localhost:8080/"
        },
        "id": "iTBYmMZIhrLz",
        "outputId": "99407639-9548-45fd-aa24-35a20adbdf60"
      },
      "execution_count": 12,
      "outputs": [
        {
          "output_type": "stream",
          "name": "stdout",
          "text": [
            "Covariance: 6.666666666666666\n"
          ]
        }
      ]
    },
    {
      "cell_type": "code",
      "source": [
        "#  Write a Python script to calculate the correlation coefficient between two datasets\n",
        "corr = np.corrcoef(x, y)[0][1]\n",
        "print(\"Correlation Coefficient:\", corr)\n"
      ],
      "metadata": {
        "colab": {
          "base_uri": "https://localhost:8080/"
        },
        "id": "xaAi3pNPy6lf",
        "outputId": "1b388315-d8d4-42b2-e11f-41fff59a76e8"
      },
      "execution_count": 13,
      "outputs": [
        {
          "output_type": "stream",
          "name": "stdout",
          "text": [
            "Correlation Coefficient: 0.8315218406202999\n"
          ]
        }
      ]
    },
    {
      "cell_type": "code",
      "source": [
        "# Create a scatter plot to visualize the relationship between two variables\n",
        "\n",
        "plt.scatter(x, y)\n",
        "plt.title(\"Scatter Plot\")\n",
        "plt.xlabel(\"X\")\n",
        "plt.ylabel(\"Y\")\n",
        "plt.show()\n"
      ],
      "metadata": {
        "colab": {
          "base_uri": "https://localhost:8080/",
          "height": 472
        },
        "id": "y848-t2J027Q",
        "outputId": "a7986701-0775-42db-a6d6-bbe3bcd409cc"
      },
      "execution_count": 14,
      "outputs": [
        {
          "output_type": "display_data",
          "data": {
            "text/plain": [
              "<Figure size 640x480 with 1 Axes>"
            ],
            "image/png": "[encoded data removed]"
          },
          "metadata": {}
        }
      ]
    },
    {
      "cell_type": "code",
      "source": [
        "#  Implement and compare simple random sampling and systematic sampling\n",
        "\n"
      ],
      "metadata": {
        "id": "UMhsWyU-0_Nn"
      },
      "execution_count": null,
      "outputs": []
    },
    {
      "cell_type": "code",
      "source": [
        "import pandas as pd\n"
      ],
      "metadata": {
        "id": "dx3_asvMzgNh"
      },
      "execution_count": 16,
      "outputs": []
    },
    {
      "cell_type": "code",
      "source": [
        "df= pd.DataFrame(data)"
      ],
      "metadata": {
        "id": "jwMxjdTd1bwx"
      },
      "execution_count": 18,
      "outputs": []
    },
    {
      "cell_type": "code",
      "source": [
        "# Simple Random\n",
        "simple_sample = df.sample(n=4)\n",
        "\n",
        "# Systematic Sampling\n",
        "interval = len(df) // 4\n",
        "systematic_sample = df.iloc[::interval]\n",
        "\n",
        "print(\"Simple:\\n\", simple_sample)\n",
        "print(\"Systematic:\\n\", systematic_sample)\n"
      ],
      "metadata": {
        "colab": {
          "base_uri": "https://localhost:8080/"
        },
        "id": "oAcYlQob1Hl8",
        "outputId": "f732abb6-2e83-403d-e829-41adb1d2f9d9"
      },
      "execution_count": 19,
      "outputs": [
        {
          "output_type": "stream",
          "name": "stdout",
          "text": [
            "Simple:\n",
            "     0\n",
            "3   7\n",
            "0   4\n",
            "6  10\n",
            "5   9\n",
            "Systematic:\n",
            "     0\n",
            "0   4\n",
            "1   5\n",
            "2   6\n",
            "3   7\n",
            "4   8\n",
            "5   9\n",
            "6  10\n"
          ]
        }
      ]
    },
    {
      "cell_type": "code",
      "source": [
        " # Simulate data using Python and calculate its central tendency and dispersion."
      ],
      "metadata": {
        "id": "GGqdP1O51TAl"
      },
      "execution_count": 20,
      "outputs": []
    },
    {
      "cell_type": "code",
      "source": [
        "sim_data = np.random.normal(50, 10, 1000)\n",
        "\n",
        "print(\"Mean:\", np.mean(sim_data))\n",
        "print(\"Std Dev:\", np.std(sim_data))\n"
      ],
      "metadata": {
        "colab": {
          "base_uri": "https://localhost:8080/"
        },
        "id": "lUK_V1rC0Mr-",
        "outputId": "fd96bbc1-c4c2-4f64-8546-dc329fd8297c"
      },
      "execution_count": 21,
      "outputs": [
        {
          "output_type": "stream",
          "name": "stdout",
          "text": [
            "Mean: 49.95004412107558\n",
            "Std Dev: 10.22166305345962\n"
          ]
        }
      ]
    },
    {
      "cell_type": "code",
      "source": [
        "# Use NumPy or pandas to summarize a dataset’s descriptive statistics\n",
        "df_summary = pd.DataFrame(sim_data, columns=[\"Values\"])\n",
        "print(df_summary.describe())\n"
      ],
      "metadata": {
        "colab": {
          "base_uri": "https://localhost:8080/"
        },
        "id": "ETjlJqv70z3J",
        "outputId": "b367d63a-9701-47ab-f81b-8297e1e41f6f"
      },
      "execution_count": 23,
      "outputs": [
        {
          "output_type": "stream",
          "name": "stdout",
          "text": [
            "            Values\n",
            "count  1000.000000\n",
            "mean     49.950044\n",
            "std      10.226778\n",
            "min      20.779411\n",
            "25%      43.032525\n",
            "50%      49.926842\n",
            "75%      57.216024\n",
            "max      89.082407\n"
          ]
        }
      ]
    },
    {
      "cell_type": "code",
      "source": [
        "df_summary"
      ],
      "metadata": {
        "colab": {
          "base_uri": "https://localhost:8080/",
          "height": 423
        },
        "id": "HjpeeVNI07YI",
        "outputId": "5549c15b-8348-4df6-de9a-a1f16d81c20c"
      },
      "execution_count": 24,
      "outputs": [
        {
          "output_type": "execute_result",
          "data": {
            "text/plain": [
              "        Values\n",
              "0    46.836457\n",
              "1    60.508022\n",
              "2    37.102587\n",
              "3    63.338783\n",
              "4    46.087904\n",
              "..         ...\n",
              "995  48.266801\n",
              "996  44.234864\n",
              "997  62.760827\n",
              "998  43.094210\n",
              "999  28.473862\n",
              "\n",
              "[1000 rows x 1 columns]"
            ],
            "text/html": [
              "\n",
              "  <div id=\"df-e768c1ef-193e-46ff-ac38-20d8213e4555\" class=\"colab-df-container\">\n",
              "    <div>\n",
              "<style scoped>\n",
              "    .dataframe tbody tr th:only-of-type {\n",
              "        vertical-align: middle;\n",
              "    }\n",
              "\n",
              "    .dataframe tbody tr th {\n",
              "        vertical-align: top;\n",
              "    }\n",
              "\n",
              "    .dataframe thead th {\n",
              "        text-align: right;\n",
              "    }\n",
              "</style>\n",
              "<table border=\"1\" class=\"dataframe\">\n",
              "  <thead>\n",
              "    <tr style=\"text-align: right;\">\n",
              "      <th></th>\n",
              "      <th>Values</th>\n",
              "    </tr>\n",
              "  </thead>\n",
              "  <tbody>\n",
              "    <tr>\n",
              "      <th>0</th>\n",
              "      <td>46.836457</td>\n",
              "    </tr>\n",
              "    <tr>\n",
              "      <th>1</th>\n",
              "      <td>60.508022</td>\n",
              "    </tr>\n",
              "    <tr>\n",
              "      <th>2</th>\n",
              "      <td>37.102587</td>\n",
              "    </tr>\n",
              "    <tr>\n",
              "      <th>3</th>\n",
              "      <td>63.338783</td>\n",
              "    </tr>\n",
              "    <tr>\n",
              "      <th>4</th>\n",
              "      <td>46.087904</td>\n",
              "    </tr>\n",
              "    <tr>\n",
              "      <th>...</th>\n",
              "      <td>...</td>\n",
              "    </tr>\n",
              "    <tr>\n",
              "      <th>995</th>\n",
              "      <td>48.266801</td>\n",
              "    </tr>\n",
              "    <tr>\n",
              "      <th>996</th>\n",
              "      <td>44.234864</td>\n",
              "    </tr>\n",
              "    <tr>\n",
              "      <th>997</th>\n",
              "      <td>62.760827</td>\n",
              "    </tr>\n",
              "    <tr>\n",
              "      <th>998</th>\n",
              "      <td>43.094210</td>\n",
              "    </tr>\n",
              "    <tr>\n",
              "      <th>999</th>\n",
              "      <td>28.473862</td>\n",
              "    </tr>\n",
              "  </tbody>\n",
              "</table>\n",
              "<p>1000 rows × 1 columns</p>\n",
              "</div>\n",
              "    <div class=\"colab-df-buttons\">\n",
              "\n",
              "  <div class=\"colab-df-container\">\n",
              "    <button class=\"colab-df-convert\" onclick=\"convertToInteractive('df-e768c1ef-193e-46ff-ac38-20d8213e4555')\"\n",
              "            title=\"Convert this dataframe to an interactive table.\"\n",
              "            style=\"display:none;\">\n",
              "\n",
              "  <svg xmlns=\"http://www.w3.org/2000/svg\" height=\"24px\" viewBox=\"0 -960 960 960\">\n",
              "    <path d=\"M120-120v-720h720v720H120Zm60-500h600v-160H180v160Zm220 220h160v-160H400v160Zm0 220h160v-160H400v160ZM180-400h160v-160H180v160Zm440 0h160v-160H620v160ZM180-180h160v-160H180v160Zm440 0h160v-160H620v160Z\"/>\n",
              "  </svg>\n",
              "    </button>\n",
              "\n",
              "  <style>\n",
              "    .colab-df-container {\n",
              "      display:flex;\n",
              "      gap: 12px;\n",
              "    }\n",
              "\n",
              "    .colab-df-convert {\n",
              "      background-color: #E8F0FE;\n",
              "      border: none;\n",
              "      border-radius: 50%;\n",
              "      cursor: pointer;\n",
              "      display: none;\n",
              "      fill: #1967D2;\n",
              "      height: 32px;\n",
              "      padding: 0 0 0 0;\n",
              "      width: 32px;\n",
              "    }\n",
              "\n",
              "    .colab-df-convert:hover {\n",
              "      background-color: #E2EBFA;\n",
              "      box-shadow: 0px 1px 2px rgba(60, 64, 67, 0.3), 0px 1px 3px 1px rgba(60, 64, 67, 0.15);\n",
              "      fill: #174EA6;\n",
              "    }\n",
              "\n",
              "    .colab-df-buttons div {\n",
              "      margin-bottom: 4px;\n",
              "    }\n",
              "\n",
              "    [theme=dark] .colab-df-convert {\n",
              "      background-color: #3B4455;\n",
              "      fill: #D2E3FC;\n",
              "    }\n",
              "\n",
              "    [theme=dark] .colab-df-convert:hover {\n",
              "      background-color: #434B5C;\n",
              "      box-shadow: 0px 1px 3px 1px rgba(0, 0, 0, 0.15);\n",
              "      filter: drop-shadow(0px 1px 2px rgba(0, 0, 0, 0.3));\n",
              "      fill: #FFFFFF;\n",
              "    }\n",
              "  </style>\n",
              "\n",
              "    <script>\n",
              "      const buttonEl =\n",
              "        document.querySelector('#df-e768c1ef-193e-46ff-ac38-20d8213e4555 button.colab-df-convert');\n",
              "      buttonEl.style.display =\n",
              "        google.colab.kernel.accessAllowed ? 'block' : 'none';\n",
              "\n",
              "      async function convertToInteractive(key) {\n",
              "        const element = document.querySelector('#df-e768c1ef-193e-46ff-ac38-20d8213e4555');\n",
              "        const dataTable =\n",
              "          await google.colab.kernel.invokeFunction('convertToInteractive',\n",
              "                                                    [key], {});\n",
              "        if (!dataTable) return;\n",
              "\n",
              "        const docLinkHtml = 'Like what you see? Visit the ' +\n",
              "          '<a target=\"_blank\" href=https://colab.research.google.com/notebooks/data_table.ipynb>data table notebook</a>'\n",
              "          + ' to learn more about interactive tables.';\n",
              "        element.innerHTML = '';\n",
              "        dataTable['output_type'] = 'display_data';\n",
              "        await google.colab.output.renderOutput(dataTable, element);\n",
              "        const docLink = document.createElement('div');\n",
              "        docLink.innerHTML = docLinkHtml;\n",
              "        element.appendChild(docLink);\n",
              "      }\n",
              "    </script>\n",
              "  </div>\n",
              "\n",
              "\n",
              "<div id=\"df-730153e0-a803-4238-b9ac-974835857fc7\">\n",
              "  <button class=\"colab-df-quickchart\" onclick=\"quickchart('df-730153e0-a803-4238-b9ac-974835857fc7')\"\n",
              "            title=\"Suggest charts\"\n",
              "            style=\"display:none;\">\n",
              "\n",
              "<svg xmlns=\"http://www.w3.org/2000/svg\" height=\"24px\"viewBox=\"0 0 24 24\"\n",
              "     width=\"24px\">\n",
              "    <g>\n",
              "        <path d=\"M19 3H5c-1.1 0-2 .9-2 2v14c0 1.1.9 2 2 2h14c1.1 0 2-.9 2-2V5c0-1.1-.9-2-2-2zM9 17H7v-7h2v7zm4 0h-2V7h2v10zm4 0h-2v-4h2v4z\"/>\n",
              "    </g>\n",
              "</svg>\n",
              "  </button>\n",
              "\n",
              "<style>\n",
              "  .colab-df-quickchart {\n",
              "      --bg-color: #E8F0FE;\n",
              "      --fill-color: #1967D2;\n",
              "      --hover-bg-color: #E2EBFA;\n",
              "      --hover-fill-color: #174EA6;\n",
              "      --disabled-fill-color: #AAA;\n",
              "      --disabled-bg-color: #DDD;\n",
              "  }\n",
              "\n",
              "  [theme=dark] .colab-df-quickchart {\n",
              "      --bg-color: #3B4455;\n",
              "      --fill-color: #D2E3FC;\n",
              "      --hover-bg-color: #434B5C;\n",
              "      --hover-fill-color: #FFFFFF;\n",
              "      --disabled-bg-color: #3B4455;\n",
              "      --disabled-fill-color: #666;\n",
              "  }\n",
              "\n",
              "  .colab-df-quickchart {\n",
              "    background-color: var(--bg-color);\n",
              "    border: none;\n",
              "    border-radius: 50%;\n",
              "    cursor: pointer;\n",
              "    display: none;\n",
              "    fill: var(--fill-color);\n",
              "    height: 32px;\n",
              "    padding: 0;\n",
              "    width: 32px;\n",
              "  }\n",
              "\n",
              "  .colab-df-quickchart:hover {\n",
              "    background-color: var(--hover-bg-color);\n",
              "    box-shadow: 0 1px 2px rgba(60, 64, 67, 0.3), 0 1px 3px 1px rgba(60, 64, 67, 0.15);\n",
              "    fill: var(--button-hover-fill-color);\n",
              "  }\n",
              "\n",
              "  .colab-df-quickchart-complete:disabled,\n",
              "  .colab-df-quickchart-complete:disabled:hover {\n",
              "    background-color: var(--disabled-bg-color);\n",
              "    fill: var(--disabled-fill-color);\n",
              "    box-shadow: none;\n",
              "  }\n",
              "\n",
              "  .colab-df-spinner {\n",
              "    border: 2px solid var(--fill-color);\n",
              "    border-color: transparent;\n",
              "    border-bottom-color: var(--fill-color);\n",
              "    animation:\n",
              "      spin 1s steps(1) infinite;\n",
              "  }\n",
              "\n",
              "  @keyframes spin {\n",
              "    0% {\n",
              "      border-color: transparent;\n",
              "      border-bottom-color: var(--fill-color);\n",
              "      border-left-color: var(--fill-color);\n",
              "    }\n",
              "    20% {\n",
              "      border-color: transparent;\n",
              "      border-left-color: var(--fill-color);\n",
              "      border-top-color: var(--fill-color);\n",
              "    }\n",
              "    30% {\n",
              "      border-color: transparent;\n",
              "      border-left-color: var(--fill-color);\n",
              "      border-top-color: var(--fill-color);\n",
              "      border-right-color: var(--fill-color);\n",
              "    }\n",
              "    40% {\n",
              "      border-color: transparent;\n",
              "      border-right-color: var(--fill-color);\n",
              "      border-top-color: var(--fill-color);\n",
              "    }\n",
              "    60% {\n",
              "      border-color: transparent;\n",
              "      border-right-color: var(--fill-color);\n",
              "    }\n",
              "    80% {\n",
              "      border-color: transparent;\n",
              "      border-right-color: var(--fill-color);\n",
              "      border-bottom-color: var(--fill-color);\n",
              "    }\n",
              "    90% {\n",
              "      border-color: transparent;\n",
              "      border-bottom-color: var(--fill-color);\n",
              "    }\n",
              "  }\n",
              "</style>\n",
              "\n",
              "  <script>\n",
              "    async function quickchart(key) {\n",
              "      const quickchartButtonEl =\n",
              "        document.querySelector('#' + key + ' button');\n",
              "      quickchartButtonEl.disabled = true;  // To prevent multiple clicks.\n",
              "      quickchartButtonEl.classList.add('colab-df-spinner');\n",
              "      try {\n",
              "        const charts = await google.colab.kernel.invokeFunction(\n",
              "            'suggestCharts', [key], {});\n",
              "      } catch (error) {\n",
              "        console.error('Error during call to suggestCharts:', error);\n",
              "      }\n",
              "      quickchartButtonEl.classList.remove('colab-df-spinner');\n",
              "      quickchartButtonEl.classList.add('colab-df-quickchart-complete');\n",
              "    }\n",
              "    (() => {\n",
              "      let quickchartButtonEl =\n",
              "        document.querySelector('#df-730153e0-a803-4238-b9ac-974835857fc7 button');\n",
              "      quickchartButtonEl.style.display =\n",
              "        google.colab.kernel.accessAllowed ? 'block' : 'none';\n",
              "    })();\n",
              "  </script>\n",
              "</div>\n",
              "\n",
              "  <div id=\"id_2b0f2e55-4a6a-43ce-ac9f-11fcb468b9e3\">\n",
              "    <style>\n",
              "      .colab-df-generate {\n",
              "        background-color: #E8F0FE;\n",
              "        border: none;\n",
              "        border-radius: 50%;\n",
              "        cursor: pointer;\n",
              "        display: none;\n",
              "        fill: #1967D2;\n",
              "        height: 32px;\n",
              "        padding: 0 0 0 0;\n",
              "        width: 32px;\n",
              "      }\n",
              "\n",
              "      .colab-df-generate:hover {\n",
              "        background-color: #E2EBFA;\n",
              "        box-shadow: 0px 1px 2px rgba(60, 64, 67, 0.3), 0px 1px 3px 1px rgba(60, 64, 67, 0.15);\n",
              "        fill: #174EA6;\n",
              "      }\n",
              "\n",
              "      [theme=dark] .colab-df-generate {\n",
              "        background-color: #3B4455;\n",
              "        fill: #D2E3FC;\n",
              "      }\n",
              "\n",
              "      [theme=dark] .colab-df-generate:hover {\n",
              "        background-color: #434B5C;\n",
              "        box-shadow: 0px 1px 3px 1px rgba(0, 0, 0, 0.15);\n",
              "        filter: drop-shadow(0px 1px 2px rgba(0, 0, 0, 0.3));\n",
              "        fill: #FFFFFF;\n",
              "      }\n",
              "    </style>\n",
              "    <button class=\"colab-df-generate\" onclick=\"generateWithVariable('df_summary')\"\n",
              "            title=\"Generate code using this dataframe.\"\n",
              "            style=\"display:none;\">\n",
              "\n",
              "  <svg xmlns=\"http://www.w3.org/2000/svg\" height=\"24px\"viewBox=\"0 0 24 24\"\n",
              "       width=\"24px\">\n",
              "    <path d=\"M7,19H8.4L18.45,9,17,7.55,7,17.6ZM5,21V16.75L18.45,3.32a2,2,0,0,1,2.83,0l1.4,1.43a1.91,1.91,0,0,1,.58,1.4,1.91,1.91,0,0,1-.58,1.4L9.25,21ZM18.45,9,17,7.55Zm-12,3A5.31,5.31,0,0,0,4.9,8.1,5.31,5.31,0,0,0,1,6.5,5.31,5.31,0,0,0,4.9,4.9,5.31,5.31,0,0,0,6.5,1,5.31,5.31,0,0,0,8.1,4.9,5.31,5.31,0,0,0,12,6.5,5.46,5.46,0,0,0,6.5,12Z\"/>\n",
              "  </svg>\n",
              "    </button>\n",
              "    <script>\n",
              "      (() => {\n",
              "      const buttonEl =\n",
              "        document.querySelector('#id_2b0f2e55-4a6a-43ce-ac9f-11fcb468b9e3 button.colab-df-generate');\n",
              "      buttonEl.style.display =\n",
              "        google.colab.kernel.accessAllowed ? 'block' : 'none';\n",
              "\n",
              "      buttonEl.onclick = () => {\n",
              "        google.colab.notebook.generateWithVariable('df_summary');\n",
              "      }\n",
              "      })();\n",
              "    </script>\n",
              "  </div>\n",
              "\n",
              "    </div>\n",
              "  </div>\n"
            ],
            "application/vnd.google.colaboratory.intrinsic+json": {
              "type": "dataframe",
              "variable_name": "df_summary",
              "summary": "{\n  \"name\": \"df_summary\",\n  \"rows\": 1000,\n  \"fields\": [\n    {\n      \"column\": \"Values\",\n      \"properties\": {\n        \"dtype\": \"number\",\n        \"std\": 10.226777721307059,\n        \"min\": 20.77941114639107,\n        \"max\": 89.08240713730422,\n        \"num_unique_values\": 1000,\n        \"samples\": [\n          71.27223105328004,\n          47.61975612643309,\n          63.60798021403171\n        ],\n        \"semantic_type\": \"\",\n        \"description\": \"\"\n      }\n    }\n  ]\n}"
            }
          },
          "metadata": {},
          "execution_count": 24
        }
      ]
    },
    {
      "cell_type": "code",
      "source": [
        "# Plot a boxplot to understand the spread and identify outliers\n",
        "\n",
        "sns.boxplot(sim_data)\n",
        "plt.title(\"Boxplot\")\n",
        "plt.show()"
      ],
      "metadata": {
        "colab": {
          "base_uri": "https://localhost:8080/",
          "height": 433
        },
        "id": "FkHgDGRm1iUS",
        "outputId": "4c4968ff-82bc-454f-923c-20f6451490ff"
      },
      "execution_count": 26,
      "outputs": [
        {
          "output_type": "display_data",
          "data": {
            "text/plain": [
              "<Figure size 640x480 with 1 Axes>"
            ],
            "image/png": "[encoded data removed]"
          },
          "metadata": {}
        }
      ]
    },
    {
      "cell_type": "code",
      "source": [
        "#  Calculate the interquartile range (IQR) of a dataset\n",
        "Q1 = np.percentile(sim_data, 25)\n",
        "Q3 = np.percentile(sim_data, 75)\n",
        "IQR = Q3 - Q1\n",
        "\n",
        "print(\"IQR:\", IQR)\n"
      ],
      "metadata": {
        "colab": {
          "base_uri": "https://localhost:8080/"
        },
        "id": "Yu2cUVAg1s-t",
        "outputId": "b286f8c7-80fc-45be-85d9-7c3636e8a4a1"
      },
      "execution_count": 37,
      "outputs": [
        {
          "output_type": "stream",
          "name": "stdout",
          "text": [
            "IQR: 14.18349874723883\n"
          ]
        }
      ]
    },
    {
      "cell_type": "code",
      "source": [
        "Q1"
      ],
      "metadata": {
        "colab": {
          "base_uri": "https://localhost:8080/"
        },
        "id": "3e4czNCX2NVH",
        "outputId": "72e25708-44d0-441f-b54c-ad18876450fa"
      },
      "execution_count": 34,
      "outputs": [
        {
          "output_type": "execute_result",
          "data": {
            "text/plain": [
              "np.float64(43.032525079020175)"
            ]
          },
          "metadata": {},
          "execution_count": 34
        }
      ]
    },
    {
      "cell_type": "code",
      "source": [
        "# Implement Z-score normalization and explain its significance\n",
        "\n",
        "z_scores = (sim_data - np.mean(sim_data)) / np.std(sim_data)\n",
        "print(z_scores[:5])  # First 5 values\n"
      ],
      "metadata": {
        "colab": {
          "base_uri": "https://localhost:8080/"
        },
        "id": "TlZ7JvoN2P_F",
        "outputId": "b14288b5-5f70-410b-cf45-96dc682e7279"
      },
      "execution_count": 38,
      "outputs": [
        {
          "output_type": "stream",
          "name": "stdout",
          "text": [
            "[-0.30460674  1.03290216 -1.25688517  1.30983962 -0.37783872]\n"
          ]
        }
      ]
    },
    {
      "cell_type": "code",
      "source": [
        "# Compare two datasets using their standard deviations\n",
        "\n",
        "data1 = np.random.normal(10, 5, 100)\n",
        "data2 = np.random.normal(10, 15, 100)\n",
        "\n",
        "print(\"Std Dev of Data1:\", np.std(data1))\n",
        "print(\"Std Dev of Data2:\", np.std(data2))\n"
      ],
      "metadata": {
        "colab": {
          "base_uri": "https://localhost:8080/"
        },
        "id": "SWL0w2aE218d",
        "outputId": "8963c7ea-c5d3-4ee5-add7-6e3e656b0880"
      },
      "execution_count": 39,
      "outputs": [
        {
          "output_type": "stream",
          "name": "stdout",
          "text": [
            "Std Dev of Data1: 4.886152171144381\n",
            "Std Dev of Data2: 14.16048195086231\n"
          ]
        }
      ]
    },
    {
      "cell_type": "code",
      "source": [
        "#  Write a Python program to visualize covariance using a heatmap\n",
        "df_cov = pd.DataFrame({'x': x, 'y': y})\n",
        "sns.heatmap(df_cov.cov(), annot=True)\n",
        "plt.title(\"Covariance Heatmap\")\n",
        "plt.show()\n"
      ],
      "metadata": {
        "colab": {
          "base_uri": "https://localhost:8080/",
          "height": 452
        },
        "id": "oNtJrtpt2_Ty",
        "outputId": "c94b60aa-3970-4d92-93d5-033be4d47a1e"
      },
      "execution_count": 40,
      "outputs": [
        {
          "output_type": "display_data",
          "data": {
            "text/plain": [
              "<Figure size 640x480 with 2 Axes>"
            ],
            "image/png": "[encoded data removed]"
          },
          "metadata": {}
        }
      ]
    },
    {
      "cell_type": "code",
      "source": [
        "#  Use seaborn to create a correlation matrix for a dataset\n",
        "\n",
        "sns.heatmap(df_cov.corr(), annot=True)\n",
        "plt.title(\"Correlation Matrix\")\n",
        "plt.show()\n"
      ],
      "metadata": {
        "colab": {
          "base_uri": "https://localhost:8080/",
          "height": 452
        },
        "id": "Z5IG00RD3Jxl",
        "outputId": "5bdca738-1ccc-46f2-9cfb-2cb0015dd2e6"
      },
      "execution_count": 41,
      "outputs": [
        {
          "output_type": "display_data",
          "data": {
            "text/plain": [
              "<Figure size 640x480 with 2 Axes>"
            ],
            "image/png": "[encoded data removed]"
          },
          "metadata": {}
        }
      ]
    },
    {
      "cell_type": "code",
      "source": [
        "# Generate a dataset and implement both variance and standard deviation computations\n",
        "\n",
        "print(\"Variance:\", np.var(sim_data))\n",
        "print(\"Standard Deviation:\", np.std(sim_data))\n"
      ],
      "metadata": {
        "colab": {
          "base_uri": "https://localhost:8080/"
        },
        "id": "rIbr8Nzk3YsL",
        "outputId": "900c33a2-6862-44dd-ccd7-a825b00e04d9"
      },
      "execution_count": 42,
      "outputs": [
        {
          "output_type": "stream",
          "name": "stdout",
          "text": [
            "Variance: 104.48239557846146\n",
            "Standard Deviation: 10.22166305345962\n"
          ]
        }
      ]
    },
    {
      "cell_type": "code",
      "source": [
        "# Visualize skewness and kurtosis using Python libraries like matplotlib or seaborn\n",
        "sns.histplot(sim_data, kde=True)\n",
        "plt.title(\"Distribution with Skewness and Kurtosis\")\n",
        "plt.show()\n"
      ],
      "metadata": {
        "colab": {
          "base_uri": "https://localhost:8080/",
          "height": 452
        },
        "id": "JyV00bib3_0j",
        "outputId": "fdb5fde7-e173-4954-e3d6-504a17b76dcd"
      },
      "execution_count": 43,
      "outputs": [
        {
          "output_type": "display_data",
          "data": {
            "text/plain": [
              "<Figure size 640x480 with 1 Axes>"
            ],
            "image/png": "[encoded data removed]"
          },
          "metadata": {}
        }
      ]
    },
    {
      "cell_type": "code",
      "source": [
        "# Implement the Pearson and Spearman correlation coefficients for a dataset\n",
        "import numpy as np\n",
        "from scipy import stats\n",
        "\n",
        "# Sample datasets\n",
        "x = [10, 20, 30, 40, 50]\n",
        "y = [5, 25, 35, 45, 65]\n",
        "\n",
        "# Pearson Correlation\n",
        "pearson_corr, _ = stats.pearsonr(x, y)\n",
        "print(f\"Pearson Correlation: {pearson_corr:.3f}\")\n",
        "\n",
        "# Spearman Correlation\n",
        "spearman_corr, _ = stats.spearmanr(x, y)\n",
        "print(f\"Spearman Correlation: {spearman_corr:.3f}\")\n"
      ],
      "metadata": {
        "colab": {
          "base_uri": "https://localhost:8080/"
        },
        "id": "z9BvuISK4Hq4",
        "outputId": "a7f4c779-2bea-45f7-ce03-cb02d57292e5"
      },
      "execution_count": 46,
      "outputs": [
        {
          "output_type": "stream",
          "name": "stdout",
          "text": [
            "Pearson Correlation: 0.990\n",
            "Spearman Correlation: 1.000\n"
          ]
        }
      ]
    },
    {
      "cell_type": "code",
      "source": [],
      "metadata": {
        "id": "G3Q-7EAz4M3E"
      },
      "execution_count": null,
      "outputs": []
    }
  ]
}